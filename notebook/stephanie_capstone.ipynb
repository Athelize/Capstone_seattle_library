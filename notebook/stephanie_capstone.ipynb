{
 "cells": [
  {
   "cell_type": "code",
   "execution_count": 94,
   "id": "c5543eca",
   "metadata": {},
   "outputs": [],
   "source": [
    "import pandas as pd\n",
    "import numpy as np\n",
    "import matplotlib.pyplot as plt\n",
    "import seaborn as sns\n",
    "import os\n",
    "import requests\n",
    "import json\n",
    "import dask.dataframe as dd\n",
    "import re"
   ]
  },
  {
   "cell_type": "markdown",
   "id": "f66f412f",
   "metadata": {},
   "source": [
    "Regular pandas wasn't working. Learned about dask and it worked beautifully. The below is only needed the first time. Once you save the filtered csv you can skip the steps to filter it down to just 2018 onwards."
   ]
  },
  {
   "cell_type": "code",
   "execution_count": null,
   "id": "5ba5bec3",
   "metadata": {},
   "outputs": [],
   "source": [
    "seattle_df = dd.read_csv('..\\data\\checkouts_by_title.csv', dtype={'ISBN': 'object'})"
   ]
  },
  {
   "cell_type": "code",
   "execution_count": null,
   "id": "41928a3a",
   "metadata": {},
   "outputs": [],
   "source": [
    "filtered_seattle_df = seattle_df[seattle_df['CheckoutYear'] >= 2018]"
   ]
  },
  {
   "cell_type": "code",
   "execution_count": null,
   "id": "2cf62a45",
   "metadata": {},
   "outputs": [],
   "source": [
    "filtered_seattle_df.head()"
   ]
  },
  {
   "cell_type": "code",
   "execution_count": null,
   "id": "aa3b78c2",
   "metadata": {},
   "outputs": [],
   "source": [
    "result = filtered_seattle_df.compute()"
   ]
  },
  {
   "cell_type": "code",
   "execution_count": null,
   "id": "e6d3e6a2",
   "metadata": {},
   "outputs": [],
   "source": [
    "result.to_csv('..\\\\data\\\\filtered_checkouts_by_title.csv', index=False)"
   ]
  },
  {
   "cell_type": "markdown",
   "id": "00b7af9e",
   "metadata": {},
   "source": [
    "Steps to load and run from the filtered data that I saved to a CSV file."
   ]
  },
  {
   "cell_type": "code",
   "execution_count": 111,
   "id": "5f3ba448",
   "metadata": {},
   "outputs": [],
   "source": [
    "seattle_df = dd.read_csv('..\\data\\\\filtered_checkouts_by_title.csv', dtype={'ISBN': 'object'})"
   ]
  },
  {
   "cell_type": "code",
   "execution_count": 112,
   "id": "eeec9704",
   "metadata": {},
   "outputs": [
    {
     "data": {
      "text/html": [
       "<div>\n",
       "<style scoped>\n",
       "    .dataframe tbody tr th:only-of-type {\n",
       "        vertical-align: middle;\n",
       "    }\n",
       "\n",
       "    .dataframe tbody tr th {\n",
       "        vertical-align: top;\n",
       "    }\n",
       "\n",
       "    .dataframe thead th {\n",
       "        text-align: right;\n",
       "    }\n",
       "</style>\n",
       "<table border=\"1\" class=\"dataframe\">\n",
       "  <thead>\n",
       "    <tr style=\"text-align: right;\">\n",
       "      <th></th>\n",
       "      <th>UsageClass</th>\n",
       "      <th>CheckoutType</th>\n",
       "      <th>MaterialType</th>\n",
       "      <th>CheckoutYear</th>\n",
       "      <th>CheckoutMonth</th>\n",
       "      <th>Checkouts</th>\n",
       "      <th>Title</th>\n",
       "      <th>ISBN</th>\n",
       "      <th>Creator</th>\n",
       "      <th>Subjects</th>\n",
       "      <th>Publisher</th>\n",
       "      <th>PublicationYear</th>\n",
       "    </tr>\n",
       "  </thead>\n",
       "  <tbody>\n",
       "    <tr>\n",
       "      <th>0</th>\n",
       "      <td>Digital</td>\n",
       "      <td>OverDrive</td>\n",
       "      <td>EBOOK</td>\n",
       "      <td>2023</td>\n",
       "      <td>3</td>\n",
       "      <td>2</td>\n",
       "      <td>Harry Potter und der Stein der Weisen</td>\n",
       "      <td>9781781100769</td>\n",
       "      <td>J. K. Rowling</td>\n",
       "      <td>Juvenile Fiction, Juvenile Literature</td>\n",
       "      <td>Pottermore</td>\n",
       "      <td>2020</td>\n",
       "    </tr>\n",
       "    <tr>\n",
       "      <th>1</th>\n",
       "      <td>Digital</td>\n",
       "      <td>OverDrive</td>\n",
       "      <td>AUDIOBOOK</td>\n",
       "      <td>2022</td>\n",
       "      <td>9</td>\n",
       "      <td>2</td>\n",
       "      <td>The Free Bastards: The Lot Lands Series, Book ...</td>\n",
       "      <td>9780593414682</td>\n",
       "      <td>Jonathan French</td>\n",
       "      <td>Fantasy, Fiction</td>\n",
       "      <td>Books on Tape</td>\n",
       "      <td>2021</td>\n",
       "    </tr>\n",
       "    <tr>\n",
       "      <th>2</th>\n",
       "      <td>Digital</td>\n",
       "      <td>OverDrive</td>\n",
       "      <td>EBOOK</td>\n",
       "      <td>2022</td>\n",
       "      <td>9</td>\n",
       "      <td>8</td>\n",
       "      <td>Dawn: Warriors: The New Prophecy Series, Book 3</td>\n",
       "      <td>9780061757433</td>\n",
       "      <td>Erin Hunter</td>\n",
       "      <td>Fantasy, Juvenile Fiction, Juvenile Literature</td>\n",
       "      <td>HarperCollins Publishers Inc.</td>\n",
       "      <td>2007</td>\n",
       "    </tr>\n",
       "    <tr>\n",
       "      <th>3</th>\n",
       "      <td>Physical</td>\n",
       "      <td>Horizon</td>\n",
       "      <td>BOOK</td>\n",
       "      <td>2022</td>\n",
       "      <td>9</td>\n",
       "      <td>1</td>\n",
       "      <td>Black box : a record of the catastrophe. Volum...</td>\n",
       "      <td>162963123X, 9781629631233</td>\n",
       "      <td>NaN</td>\n",
       "      <td>Social change, Social change Literary collections</td>\n",
       "      <td>PM Press,</td>\n",
       "      <td>[2015]</td>\n",
       "    </tr>\n",
       "    <tr>\n",
       "      <th>4</th>\n",
       "      <td>Digital</td>\n",
       "      <td>OverDrive</td>\n",
       "      <td>AUDIOBOOK</td>\n",
       "      <td>2023</td>\n",
       "      <td>3</td>\n",
       "      <td>2</td>\n",
       "      <td>Blood Games (unabridged)</td>\n",
       "      <td>9781452698052</td>\n",
       "      <td>Chloe Neill</td>\n",
       "      <td>Fantasy, Fiction, Literature, Romance</td>\n",
       "      <td>Tantor Media, Inc</td>\n",
       "      <td>2015</td>\n",
       "    </tr>\n",
       "  </tbody>\n",
       "</table>\n",
       "</div>"
      ],
      "text/plain": [
       "  UsageClass CheckoutType MaterialType  CheckoutYear  CheckoutMonth  \\\n",
       "0    Digital    OverDrive        EBOOK          2023              3   \n",
       "1    Digital    OverDrive    AUDIOBOOK          2022              9   \n",
       "2    Digital    OverDrive        EBOOK          2022              9   \n",
       "3   Physical      Horizon         BOOK          2022              9   \n",
       "4    Digital    OverDrive    AUDIOBOOK          2023              3   \n",
       "\n",
       "   Checkouts                                              Title  \\\n",
       "0          2              Harry Potter und der Stein der Weisen   \n",
       "1          2  The Free Bastards: The Lot Lands Series, Book ...   \n",
       "2          8    Dawn: Warriors: The New Prophecy Series, Book 3   \n",
       "3          1  Black box : a record of the catastrophe. Volum...   \n",
       "4          2                           Blood Games (unabridged)   \n",
       "\n",
       "                        ISBN          Creator  \\\n",
       "0              9781781100769    J. K. Rowling   \n",
       "1              9780593414682  Jonathan French   \n",
       "2              9780061757433      Erin Hunter   \n",
       "3  162963123X, 9781629631233              NaN   \n",
       "4              9781452698052      Chloe Neill   \n",
       "\n",
       "                                            Subjects  \\\n",
       "0              Juvenile Fiction, Juvenile Literature   \n",
       "1                                   Fantasy, Fiction   \n",
       "2     Fantasy, Juvenile Fiction, Juvenile Literature   \n",
       "3  Social change, Social change Literary collections   \n",
       "4              Fantasy, Fiction, Literature, Romance   \n",
       "\n",
       "                       Publisher PublicationYear  \n",
       "0                     Pottermore            2020  \n",
       "1                  Books on Tape            2021  \n",
       "2  HarperCollins Publishers Inc.            2007  \n",
       "3                      PM Press,          [2015]  \n",
       "4              Tantor Media, Inc            2015  "
      ]
     },
     "execution_count": 112,
     "metadata": {},
     "output_type": "execute_result"
    }
   ],
   "source": [
    "seattle_df.head()"
   ]
  },
  {
   "cell_type": "code",
   "execution_count": 113,
   "id": "e23ae9cc",
   "metadata": {},
   "outputs": [
    {
     "name": "stdout",
     "output_type": "stream",
     "text": [
      "<class 'dask.dataframe.core.DataFrame'>\n",
      "Columns: 12 entries, UsageClass to PublicationYear\n",
      "dtypes: object(9), int64(3)"
     ]
    }
   ],
   "source": [
    "seattle_df.info()"
   ]
  },
  {
   "cell_type": "code",
   "execution_count": 114,
   "id": "d310acf3",
   "metadata": {},
   "outputs": [],
   "source": [
    "result = seattle_df.compute()"
   ]
  },
  {
   "cell_type": "code",
   "execution_count": 115,
   "id": "fb80a7a4",
   "metadata": {},
   "outputs": [
    {
     "name": "stdout",
     "output_type": "stream",
     "text": [
      "<class 'pandas.core.frame.DataFrame'>\n",
      "Int64Index: 12415765 entries, 0 to 248235\n",
      "Data columns (total 12 columns):\n",
      " #   Column           Dtype \n",
      "---  ------           ----- \n",
      " 0   UsageClass       object\n",
      " 1   CheckoutType     object\n",
      " 2   MaterialType     object\n",
      " 3   CheckoutYear     int64 \n",
      " 4   CheckoutMonth    int64 \n",
      " 5   Checkouts        int64 \n",
      " 6   Title            object\n",
      " 7   ISBN             object\n",
      " 8   Creator          object\n",
      " 9   Subjects         object\n",
      " 10  Publisher        object\n",
      " 11  PublicationYear  object\n",
      "dtypes: int64(3), object(9)\n",
      "memory usage: 1.2+ GB\n"
     ]
    }
   ],
   "source": [
    "result.info()"
   ]
  },
  {
   "cell_type": "markdown",
   "id": "39713880",
   "metadata": {},
   "source": [
    "Trying to clean ISBN and split into ISBN-10 and ISBN-13. Changing to one by one so Dask doesn't throw an error. Dask did not work. ):"
   ]
  },
  {
   "cell_type": "markdown",
   "id": "cf74dc4b",
   "metadata": {},
   "source": [
    "Finding the corresponding lengths to sort into the correct columns."
   ]
  },
  {
   "cell_type": "markdown",
   "id": "470df656",
   "metadata": {},
   "source": [
    "Trying for loop and chunk iterator."
   ]
  },
  {
   "cell_type": "code",
   "execution_count": 116,
   "id": "636f5512",
   "metadata": {},
   "outputs": [],
   "source": [
    "def process_chunk(chunk):\n",
    "    chunk_copy = chunk.copy()\n",
    "    chunk_copy['ISBN'] = chunk_copy['ISBN'].astype(str)\n",
    "    split_isbn = chunk_copy['ISBN'].str.split(',', expand=True)\n",
    "    chunk_copy.loc[:, 'Possible ISBN-10'] = split_isbn[0].str.strip()\n",
    "    chunk_copy.loc[:, 'Possible ISBN-13'] = None\n",
    "    if split_isbn.shape[1] > 1:\n",
    "        chunk_copy.loc[:, 'Possible ISBN-13'] = split_isbn[1].str.strip()\n",
    "    chunk_copy.loc[:, 'ISBN-10'] = chunk_copy['Possible ISBN-10'].where(chunk_copy['Possible ISBN-10'].str.len() == 10, np.nan)\n",
    "    chunk_copy.loc[:, 'ISBN-13'] = chunk_copy['Possible ISBN-13'].where(chunk_copy['Possible ISBN-13'].str.len() == 13, chunk_copy['Possible ISBN-10'])\n",
    "    chunk_copy = chunk_copy.drop(columns=['Possible ISBN-10', 'Possible ISBN-13'])\n",
    "    return chunk_copy"
   ]
  },
  {
   "cell_type": "code",
   "execution_count": 117,
   "id": "e927c75f",
   "metadata": {},
   "outputs": [],
   "source": [
    "chunk_size = 10**5\n",
    "chunks = [process_chunk(result[i:i+chunk_size]) for i in range(0, result.shape[0], chunk_size)]"
   ]
  },
  {
   "cell_type": "code",
   "execution_count": 118,
   "id": "ad66ea68",
   "metadata": {},
   "outputs": [],
   "source": [
    "result_processed = pd.concat(chunks, ignore_index=True)"
   ]
  },
  {
   "cell_type": "code",
   "execution_count": 119,
   "id": "523776a4",
   "metadata": {},
   "outputs": [
    {
     "name": "stdout",
     "output_type": "stream",
     "text": [
      "<class 'pandas.core.frame.DataFrame'>\n",
      "RangeIndex: 12415765 entries, 0 to 12415764\n",
      "Data columns (total 14 columns):\n",
      " #   Column           Dtype \n",
      "---  ------           ----- \n",
      " 0   UsageClass       object\n",
      " 1   CheckoutType     object\n",
      " 2   MaterialType     object\n",
      " 3   CheckoutYear     int64 \n",
      " 4   CheckoutMonth    int64 \n",
      " 5   Checkouts        int64 \n",
      " 6   Title            object\n",
      " 7   ISBN             object\n",
      " 8   Creator          object\n",
      " 9   Subjects         object\n",
      " 10  Publisher        object\n",
      " 11  PublicationYear  object\n",
      " 12  ISBN-10          object\n",
      " 13  ISBN-13          object\n",
      "dtypes: int64(3), object(11)\n",
      "memory usage: 1.3+ GB\n"
     ]
    }
   ],
   "source": [
    "result_processed.info()"
   ]
  },
  {
   "cell_type": "code",
   "execution_count": 120,
   "id": "a6159300",
   "metadata": {},
   "outputs": [
    {
     "data": {
      "text/html": [
       "<div>\n",
       "<style scoped>\n",
       "    .dataframe tbody tr th:only-of-type {\n",
       "        vertical-align: middle;\n",
       "    }\n",
       "\n",
       "    .dataframe tbody tr th {\n",
       "        vertical-align: top;\n",
       "    }\n",
       "\n",
       "    .dataframe thead th {\n",
       "        text-align: right;\n",
       "    }\n",
       "</style>\n",
       "<table border=\"1\" class=\"dataframe\">\n",
       "  <thead>\n",
       "    <tr style=\"text-align: right;\">\n",
       "      <th></th>\n",
       "      <th>UsageClass</th>\n",
       "      <th>CheckoutType</th>\n",
       "      <th>MaterialType</th>\n",
       "      <th>CheckoutYear</th>\n",
       "      <th>CheckoutMonth</th>\n",
       "      <th>Checkouts</th>\n",
       "      <th>Title</th>\n",
       "      <th>ISBN</th>\n",
       "      <th>Creator</th>\n",
       "      <th>Subjects</th>\n",
       "      <th>Publisher</th>\n",
       "      <th>PublicationYear</th>\n",
       "      <th>ISBN-10</th>\n",
       "      <th>ISBN-13</th>\n",
       "    </tr>\n",
       "  </thead>\n",
       "  <tbody>\n",
       "    <tr>\n",
       "      <th>0</th>\n",
       "      <td>Digital</td>\n",
       "      <td>OverDrive</td>\n",
       "      <td>EBOOK</td>\n",
       "      <td>2023</td>\n",
       "      <td>3</td>\n",
       "      <td>2</td>\n",
       "      <td>Harry Potter und der Stein der Weisen</td>\n",
       "      <td>9781781100769</td>\n",
       "      <td>J. K. Rowling</td>\n",
       "      <td>Juvenile Fiction, Juvenile Literature</td>\n",
       "      <td>Pottermore</td>\n",
       "      <td>2020</td>\n",
       "      <td>NaN</td>\n",
       "      <td>9781781100769</td>\n",
       "    </tr>\n",
       "    <tr>\n",
       "      <th>1</th>\n",
       "      <td>Digital</td>\n",
       "      <td>OverDrive</td>\n",
       "      <td>AUDIOBOOK</td>\n",
       "      <td>2022</td>\n",
       "      <td>9</td>\n",
       "      <td>2</td>\n",
       "      <td>The Free Bastards: The Lot Lands Series, Book ...</td>\n",
       "      <td>9780593414682</td>\n",
       "      <td>Jonathan French</td>\n",
       "      <td>Fantasy, Fiction</td>\n",
       "      <td>Books on Tape</td>\n",
       "      <td>2021</td>\n",
       "      <td>NaN</td>\n",
       "      <td>9780593414682</td>\n",
       "    </tr>\n",
       "    <tr>\n",
       "      <th>2</th>\n",
       "      <td>Digital</td>\n",
       "      <td>OverDrive</td>\n",
       "      <td>EBOOK</td>\n",
       "      <td>2022</td>\n",
       "      <td>9</td>\n",
       "      <td>8</td>\n",
       "      <td>Dawn: Warriors: The New Prophecy Series, Book 3</td>\n",
       "      <td>9780061757433</td>\n",
       "      <td>Erin Hunter</td>\n",
       "      <td>Fantasy, Juvenile Fiction, Juvenile Literature</td>\n",
       "      <td>HarperCollins Publishers Inc.</td>\n",
       "      <td>2007</td>\n",
       "      <td>NaN</td>\n",
       "      <td>9780061757433</td>\n",
       "    </tr>\n",
       "    <tr>\n",
       "      <th>3</th>\n",
       "      <td>Physical</td>\n",
       "      <td>Horizon</td>\n",
       "      <td>BOOK</td>\n",
       "      <td>2022</td>\n",
       "      <td>9</td>\n",
       "      <td>1</td>\n",
       "      <td>Black box : a record of the catastrophe. Volum...</td>\n",
       "      <td>162963123X, 9781629631233</td>\n",
       "      <td>NaN</td>\n",
       "      <td>Social change, Social change Literary collections</td>\n",
       "      <td>PM Press,</td>\n",
       "      <td>[2015]</td>\n",
       "      <td>162963123X</td>\n",
       "      <td>9781629631233</td>\n",
       "    </tr>\n",
       "    <tr>\n",
       "      <th>4</th>\n",
       "      <td>Digital</td>\n",
       "      <td>OverDrive</td>\n",
       "      <td>AUDIOBOOK</td>\n",
       "      <td>2023</td>\n",
       "      <td>3</td>\n",
       "      <td>2</td>\n",
       "      <td>Blood Games (unabridged)</td>\n",
       "      <td>9781452698052</td>\n",
       "      <td>Chloe Neill</td>\n",
       "      <td>Fantasy, Fiction, Literature, Romance</td>\n",
       "      <td>Tantor Media, Inc</td>\n",
       "      <td>2015</td>\n",
       "      <td>NaN</td>\n",
       "      <td>9781452698052</td>\n",
       "    </tr>\n",
       "  </tbody>\n",
       "</table>\n",
       "</div>"
      ],
      "text/plain": [
       "  UsageClass CheckoutType MaterialType  CheckoutYear  CheckoutMonth  \\\n",
       "0    Digital    OverDrive        EBOOK          2023              3   \n",
       "1    Digital    OverDrive    AUDIOBOOK          2022              9   \n",
       "2    Digital    OverDrive        EBOOK          2022              9   \n",
       "3   Physical      Horizon         BOOK          2022              9   \n",
       "4    Digital    OverDrive    AUDIOBOOK          2023              3   \n",
       "\n",
       "   Checkouts                                              Title  \\\n",
       "0          2              Harry Potter und der Stein der Weisen   \n",
       "1          2  The Free Bastards: The Lot Lands Series, Book ...   \n",
       "2          8    Dawn: Warriors: The New Prophecy Series, Book 3   \n",
       "3          1  Black box : a record of the catastrophe. Volum...   \n",
       "4          2                           Blood Games (unabridged)   \n",
       "\n",
       "                        ISBN          Creator  \\\n",
       "0              9781781100769    J. K. Rowling   \n",
       "1              9780593414682  Jonathan French   \n",
       "2              9780061757433      Erin Hunter   \n",
       "3  162963123X, 9781629631233              NaN   \n",
       "4              9781452698052      Chloe Neill   \n",
       "\n",
       "                                            Subjects  \\\n",
       "0              Juvenile Fiction, Juvenile Literature   \n",
       "1                                   Fantasy, Fiction   \n",
       "2     Fantasy, Juvenile Fiction, Juvenile Literature   \n",
       "3  Social change, Social change Literary collections   \n",
       "4              Fantasy, Fiction, Literature, Romance   \n",
       "\n",
       "                       Publisher PublicationYear     ISBN-10        ISBN-13  \n",
       "0                     Pottermore            2020         NaN  9781781100769  \n",
       "1                  Books on Tape            2021         NaN  9780593414682  \n",
       "2  HarperCollins Publishers Inc.            2007         NaN  9780061757433  \n",
       "3                      PM Press,          [2015]  162963123X  9781629631233  \n",
       "4              Tantor Media, Inc            2015         NaN  9781452698052  "
      ]
     },
     "execution_count": 120,
     "metadata": {},
     "output_type": "execute_result"
    }
   ],
   "source": [
    "result_processed.head()"
   ]
  },
  {
   "cell_type": "markdown",
   "id": "a4a941a1",
   "metadata": {},
   "source": [
    "Checking to see if either of the ISBN columns have complete isbn data so I can possibly drop the other isbn columns."
   ]
  },
  {
   "cell_type": "code",
   "execution_count": 66,
   "id": "2f931f28",
   "metadata": {},
   "outputs": [
    {
     "data": {
      "text/plain": [
       "0"
      ]
     },
     "execution_count": 66,
     "metadata": {},
     "output_type": "execute_result"
    }
   ],
   "source": [
    "result_processed['ISBN-13'].isna().sum()"
   ]
  },
  {
   "cell_type": "code",
   "execution_count": 67,
   "id": "4fb11354",
   "metadata": {},
   "outputs": [
    {
     "data": {
      "text/plain": [
       "11397338"
      ]
     },
     "execution_count": 67,
     "metadata": {},
     "output_type": "execute_result"
    }
   ],
   "source": [
    "result_processed['ISBN-10'].isna().sum()"
   ]
  },
  {
   "cell_type": "code",
   "execution_count": 71,
   "id": "46750d07",
   "metadata": {},
   "outputs": [
    {
     "data": {
      "text/plain": [
       "106226"
      ]
     },
     "execution_count": 71,
     "metadata": {},
     "output_type": "execute_result"
    }
   ],
   "source": [
    "result_processed['PublicationYear'].isna().sum()"
   ]
  },
  {
   "cell_type": "markdown",
   "id": "96892e9a",
   "metadata": {},
   "source": [
    "ISBN-13 has a record for every book so I am dropping the ISBN and the ISBN-10 columns. **Not doing this anymore because this was a LIE lol.**"
   ]
  },
  {
   "cell_type": "code",
   "execution_count": 68,
   "id": "55be4c81",
   "metadata": {},
   "outputs": [],
   "source": [
    "result_processed = result_processed.drop(columns=['ISBN', 'ISBN-10'])"
   ]
  },
  {
   "cell_type": "code",
   "execution_count": 121,
   "id": "a687fa1e",
   "metadata": {},
   "outputs": [
    {
     "data": {
      "text/html": [
       "<div>\n",
       "<style scoped>\n",
       "    .dataframe tbody tr th:only-of-type {\n",
       "        vertical-align: middle;\n",
       "    }\n",
       "\n",
       "    .dataframe tbody tr th {\n",
       "        vertical-align: top;\n",
       "    }\n",
       "\n",
       "    .dataframe thead th {\n",
       "        text-align: right;\n",
       "    }\n",
       "</style>\n",
       "<table border=\"1\" class=\"dataframe\">\n",
       "  <thead>\n",
       "    <tr style=\"text-align: right;\">\n",
       "      <th></th>\n",
       "      <th>UsageClass</th>\n",
       "      <th>CheckoutType</th>\n",
       "      <th>MaterialType</th>\n",
       "      <th>CheckoutYear</th>\n",
       "      <th>CheckoutMonth</th>\n",
       "      <th>Checkouts</th>\n",
       "      <th>Title</th>\n",
       "      <th>ISBN</th>\n",
       "      <th>Creator</th>\n",
       "      <th>Subjects</th>\n",
       "      <th>Publisher</th>\n",
       "      <th>PublicationYear</th>\n",
       "      <th>ISBN-10</th>\n",
       "      <th>ISBN-13</th>\n",
       "    </tr>\n",
       "  </thead>\n",
       "  <tbody>\n",
       "    <tr>\n",
       "      <th>12415760</th>\n",
       "      <td>Digital</td>\n",
       "      <td>OverDrive</td>\n",
       "      <td>EBOOK</td>\n",
       "      <td>2023</td>\n",
       "      <td>3</td>\n",
       "      <td>3</td>\n",
       "      <td>Bo the Brave</td>\n",
       "      <td>9781338323443</td>\n",
       "      <td>Rebecca Elliott</td>\n",
       "      <td>Juvenile Fiction, Juvenile Literature</td>\n",
       "      <td>Scholastic, Inc. (US)</td>\n",
       "      <td>2020</td>\n",
       "      <td>NaN</td>\n",
       "      <td>9781338323443</td>\n",
       "    </tr>\n",
       "    <tr>\n",
       "      <th>12415761</th>\n",
       "      <td>Digital</td>\n",
       "      <td>OverDrive</td>\n",
       "      <td>AUDIOBOOK</td>\n",
       "      <td>2023</td>\n",
       "      <td>3</td>\n",
       "      <td>3</td>\n",
       "      <td>The Lido (unabridged)</td>\n",
       "      <td>9781508255796</td>\n",
       "      <td>Libby Page</td>\n",
       "      <td>Fiction, Literature</td>\n",
       "      <td>Simon &amp; Schuster - Audiobooks</td>\n",
       "      <td>2018</td>\n",
       "      <td>NaN</td>\n",
       "      <td>9781508255796</td>\n",
       "    </tr>\n",
       "    <tr>\n",
       "      <th>12415762</th>\n",
       "      <td>Digital</td>\n",
       "      <td>OverDrive</td>\n",
       "      <td>EBOOK</td>\n",
       "      <td>2022</td>\n",
       "      <td>9</td>\n",
       "      <td>2</td>\n",
       "      <td>The Catch: US Marshals Series, Book 3</td>\n",
       "      <td>9781493434176</td>\n",
       "      <td>Lisa Harris</td>\n",
       "      <td>Fiction, Romance, Suspense, Christian Fiction</td>\n",
       "      <td>Baker Publishing Group</td>\n",
       "      <td>2022</td>\n",
       "      <td>NaN</td>\n",
       "      <td>9781493434176</td>\n",
       "    </tr>\n",
       "    <tr>\n",
       "      <th>12415763</th>\n",
       "      <td>Digital</td>\n",
       "      <td>OverDrive</td>\n",
       "      <td>EBOOK</td>\n",
       "      <td>2022</td>\n",
       "      <td>9</td>\n",
       "      <td>3</td>\n",
       "      <td>Escape from the Nether!</td>\n",
       "      <td>9780593430699</td>\n",
       "      <td>Nick  Eliopulos</td>\n",
       "      <td>Juvenile Fiction, Juvenile Literature</td>\n",
       "      <td>Random House, Inc.</td>\n",
       "      <td>2022</td>\n",
       "      <td>NaN</td>\n",
       "      <td>9780593430699</td>\n",
       "    </tr>\n",
       "    <tr>\n",
       "      <th>12415764</th>\n",
       "      <td>Physical</td>\n",
       "      <td>Horizon</td>\n",
       "      <td>BOOK</td>\n",
       "      <td>2022</td>\n",
       "      <td>9</td>\n",
       "      <td>6</td>\n",
       "      <td>Fancy Nancy and the wedding of the century / w...</td>\n",
       "      <td>0062083198, 0062083201, 9780062083197, 9780062...</td>\n",
       "      <td>O'Connor, Jane</td>\n",
       "      <td>Fancy Nancy Fictitious character Juvenile fict...</td>\n",
       "      <td>HarperCollins Publishers,</td>\n",
       "      <td>[2014]</td>\n",
       "      <td>0062083198</td>\n",
       "      <td>0062083198</td>\n",
       "    </tr>\n",
       "  </tbody>\n",
       "</table>\n",
       "</div>"
      ],
      "text/plain": [
       "         UsageClass CheckoutType MaterialType  CheckoutYear  CheckoutMonth  \\\n",
       "12415760    Digital    OverDrive        EBOOK          2023              3   \n",
       "12415761    Digital    OverDrive    AUDIOBOOK          2023              3   \n",
       "12415762    Digital    OverDrive        EBOOK          2022              9   \n",
       "12415763    Digital    OverDrive        EBOOK          2022              9   \n",
       "12415764   Physical      Horizon         BOOK          2022              9   \n",
       "\n",
       "          Checkouts                                              Title  \\\n",
       "12415760          3                                       Bo the Brave   \n",
       "12415761          3                              The Lido (unabridged)   \n",
       "12415762          2              The Catch: US Marshals Series, Book 3   \n",
       "12415763          3                            Escape from the Nether!   \n",
       "12415764          6  Fancy Nancy and the wedding of the century / w...   \n",
       "\n",
       "                                                       ISBN          Creator  \\\n",
       "12415760                                      9781338323443  Rebecca Elliott   \n",
       "12415761                                      9781508255796       Libby Page   \n",
       "12415762                                      9781493434176      Lisa Harris   \n",
       "12415763                                      9780593430699  Nick  Eliopulos   \n",
       "12415764  0062083198, 0062083201, 9780062083197, 9780062...   O'Connor, Jane   \n",
       "\n",
       "                                                   Subjects  \\\n",
       "12415760              Juvenile Fiction, Juvenile Literature   \n",
       "12415761                                Fiction, Literature   \n",
       "12415762      Fiction, Romance, Suspense, Christian Fiction   \n",
       "12415763              Juvenile Fiction, Juvenile Literature   \n",
       "12415764  Fancy Nancy Fictitious character Juvenile fict...   \n",
       "\n",
       "                              Publisher PublicationYear     ISBN-10  \\\n",
       "12415760          Scholastic, Inc. (US)            2020         NaN   \n",
       "12415761  Simon & Schuster - Audiobooks            2018         NaN   \n",
       "12415762         Baker Publishing Group            2022         NaN   \n",
       "12415763             Random House, Inc.            2022         NaN   \n",
       "12415764      HarperCollins Publishers,          [2014]  0062083198   \n",
       "\n",
       "                ISBN-13  \n",
       "12415760  9781338323443  \n",
       "12415761  9781508255796  \n",
       "12415762  9781493434176  \n",
       "12415763  9780593430699  \n",
       "12415764     0062083198  "
      ]
     },
     "execution_count": 121,
     "metadata": {},
     "output_type": "execute_result"
    }
   ],
   "source": [
    "result_processed.tail(5)"
   ]
  },
  {
   "cell_type": "markdown",
   "id": "6d5425cd",
   "metadata": {},
   "source": [
    "Trying to clean the year column. Decided to keep null values so I can possibly do something with them if I want to."
   ]
  },
  {
   "cell_type": "code",
   "execution_count": 122,
   "id": "5f22c63c",
   "metadata": {},
   "outputs": [],
   "source": [
    "def clean_year(year):\n",
    "    if pd.isna(year):\n",
    "        return year \n",
    "    year = str(year) \n",
    "    cleaned_year = ''.join(filter(str.isdigit, year))\n",
    "    return cleaned_year[:4] if len(cleaned_year) >= 4 else None"
   ]
  },
  {
   "cell_type": "code",
   "execution_count": 123,
   "id": "217a550e",
   "metadata": {},
   "outputs": [],
   "source": [
    "result_processed['Cleaned_Year'] = result_processed['PublicationYear'].apply(clean_year)"
   ]
  },
  {
   "cell_type": "code",
   "execution_count": 124,
   "id": "389e4ae8",
   "metadata": {},
   "outputs": [
    {
     "data": {
      "text/plain": [
       "array(['2020', '2021', '2007', '2015', '2017', '2014', '2009', '2022',\n",
       "       '2011', '2018', '2013', '2008', '2005', '2010', '2016', '2012',\n",
       "       '2019', '2003', '1998', '1944', '2000', '1992', '2006', nan,\n",
       "       '2004', '1997', '1999', '1988', '1994', '1986', '2002', '2001',\n",
       "       '1985', '1987', '1989', '1983', '1990', '1972', '1956', '1970',\n",
       "       '1995', '1979', '1964', '1996', '1991', '1993', '1955', '1961',\n",
       "       '1928', '1974', '1976', '1937', '1969', '1980', '1929', '1924',\n",
       "       '1978', '1966', '1984', '1965', '1941', '1977', '8019', '1982',\n",
       "       '1957', '1960', '1954', '1953', '1968', '1951', '1939', '8119',\n",
       "       '1973', '1981', '1971', '1962', '1911', '1940', '1963', None,\n",
       "       '6219', '1935', '1832', '1921', '1959', '1888', '1926', '1910',\n",
       "       '1958', '1948', '1975', '1943', '1967', '5199', '1932', '1900',\n",
       "       '1945', '7719', '1949', '1946', '1950', '7819', '1938', '1952',\n",
       "       '1927', '1912', '1913', '1931', '1906', '1936', '1934', '2620',\n",
       "       '1886', '1894', '1925', '1922', '9820', '1899', '1903', '1947',\n",
       "       '1022', '2520', '1896', '1897', '1002', '1942', '1917', '1923',\n",
       "       '1887', '1905', '1901', '1909', '1883', '1920', '1893', '1873',\n",
       "       '1840', '5219', '1904', '1620', '1891', '1895', '5419', '1880',\n",
       "       '2719', '1914', '6619', '1916', '1907', '1012', '1889', '8819',\n",
       "       '8319', '1892', '7119', '1919', '1874', '1930', '1933', '9520',\n",
       "       '1898', '1918', '2220', '8419', '1420', '2120', '1881', '7619',\n",
       "       '7219', '1520', '1890', '1846', '1915', '7919', '1908', '1062',\n",
       "       '1431', '8219', '9320', '1902', '9200', '1865', '3196', '6319',\n",
       "       '2320', '7519', '1859', '2720', '1174', '5319', '1878', '1875',\n",
       "       '2920', '5619', '1857', '6019', '1872', '6263', '1828', '9720',\n",
       "       '8199', '1320', '1885', '4019', '5919', '7419', '5719', '1866',\n",
       "       '2420', '1856', '1119', '1884', '1032', '1882', '7019', '1861',\n",
       "       '8619', '9199', '9120', '1820', '5019', '6519', '1220', '1848',\n",
       "       '1198', '4199', '1877', '1870', '1800', '1863', '1876', '4919',\n",
       "       '4619', '2023', '1818', '6119', '1042', '5819', '7319', '7374',\n",
       "       '5657', '1019', '4219', '3020', '1849', '3199', '1842', '6819',\n",
       "       '1839', '1850', '9620', '5519', '4819', '1720', '1819', '8519',\n",
       "       '8719', '1845', '6870', '6919', '1406', '1867', '1868', '9020',\n",
       "       '1871', '5859', '1869', '1854', '6199', '1864', '2820', '7199',\n",
       "       '8920', '3419', '1834', '1860', '1833', '1824', '1855', '0720',\n",
       "       '1812', '1879', '2199', '4519', '6419', '1843', '1201', '0000',\n",
       "       '1838', '2202', '2919', '1830', '3719', '1853', '9220', '5781',\n",
       "       '0620'], dtype=object)"
      ]
     },
     "execution_count": 124,
     "metadata": {},
     "output_type": "execute_result"
    }
   ],
   "source": [
    "result_processed['Cleaned_Year'].unique()"
   ]
  },
  {
   "cell_type": "markdown",
   "id": "c67f19a1",
   "metadata": {},
   "source": [
    "Discovered that there's some more values that are weird. Trying something else."
   ]
  },
  {
   "cell_type": "code",
   "execution_count": 125,
   "id": "759ef334",
   "metadata": {},
   "outputs": [],
   "source": [
    "def clean_year(year):\n",
    "    if pd.isna(year):\n",
    "        return np.nan\n",
    "    year = str(year)\n",
    "    year = ''.join(filter(lambda x: x.isdigit(), year))\n",
    "    year = year[-4:]\n",
    "    return year if len(year) == 4 else np.nan"
   ]
  },
  {
   "cell_type": "code",
   "execution_count": 126,
   "id": "9832e753",
   "metadata": {},
   "outputs": [],
   "source": [
    "result_processed['Cleaned_Year'] = result_processed['PublicationYear'].apply(clean_year)"
   ]
  },
  {
   "cell_type": "code",
   "execution_count": 127,
   "id": "a343e559",
   "metadata": {},
   "outputs": [
    {
     "data": {
      "text/plain": [
       "array(['2020', '2021', '2007', '2015', '2017', '2014', '2009', '2022',\n",
       "       '2011', '2018', '2013', '2008', '2005', '2010', '2016', '2012',\n",
       "       '2019', '1977', '2003', '1998', '1944', '2000', '1992', '2006',\n",
       "       nan, '2004', '1997', '1999', '1988', '1994', '1986', '2002',\n",
       "       '2001', '1987', '1984', '1989', '1983', '1996', '1990', '1972',\n",
       "       '1985', '1956', '1979', '1995', '1964', '1991', '1993', '1976',\n",
       "       '1961', '1928', '1974', '1970', '1937', '1965', '1969', '1980',\n",
       "       '1929', '1924', '1978', '1966', '1975', '6571', '1941', '1982',\n",
       "       '1957', '1960', '1954', '1953', '1968', '1951', '1939', '1973',\n",
       "       '1981', '1971', '1962', '1911', '1940', '1963', '1935', '1832',\n",
       "       '1921', '1959', '1888', '1926', '1910', '1958', '4853', '1943',\n",
       "       '1967', '1955', '1932', '6484', '1945', '1948', '1949', '1946',\n",
       "       '1950', '7374', '1938', '1952', '1927', '1912', '1703', '1913',\n",
       "       '1931', '1900', '1906', '1936', '1934', '1886', '1894', '6669',\n",
       "       '1925', '1922', '1899', '1903', '1947', '1896', '1897', '1942',\n",
       "       '1917', '1923', '1887', '1905', '1901', '1914', '1909', '1883',\n",
       "       '1893', '1873', '1849', '1904', '1891', '1895', '1889', '1916',\n",
       "       '1907', '1915', '1892', '1919', '6365', '1874', '5658', '1930',\n",
       "       '1933', '1898', '2952', '1918', '0175', '4951', '1881', '4762',\n",
       "       '1890', '1846', '1920', '1908', '0162', '6772', '1902', '1865',\n",
       "       '9723', '7073', '1859', '2339', '5253', '1878', '1875', '1857',\n",
       "       '1872', '5259', '1833', '4748', '1885', '1733', '5559', '6971',\n",
       "       '1866', '4849', '1856', '1884', '1882', '2132', '1861', '1725',\n",
       "       '4154', '5254', '6064', '7005', '6970', '5860', '5701', '1848',\n",
       "       '2229', '5760', '6264', '1877', '1870', '7175', '5961', '6163',\n",
       "       '1863', '4857', '1876', '9678', '1880', '6778', '4666', '2835',\n",
       "       '4950', '2023', '1818', '0612', '1214', '5258', '1879', '5355',\n",
       "       '5965', '7222', '6668', '3853', '1842', '1839', '1850', '3845',\n",
       "       '1819', '8889', '6768', '1845', '6973', '7172', '6165', '6567',\n",
       "       '1367', '3941', '8688', '1847', '6271', '4751', '0151', '2931',\n",
       "       '5457', '6364', '1840', '3134', '0161', '0000', '6371', '5051',\n",
       "       '1867', '1868', '7174', '5759', '5484', '0230', '4462', '0506',\n",
       "       '1871', '4953', '6063', '5478', '7375', '1718', '1869', '1854',\n",
       "       '4155', '5357', '7274', '7275', '5779', '1864', '3067', '0219',\n",
       "       '7076', '7476', '1835', '5861', '5859', '6082', '1860', '0191',\n",
       "       '6869', '6466', '1824', '2122', '5053', '4332', '3349', '1812',\n",
       "       '7273', '0437', '6572', '5556', '4067', '1843', '2840', '3138',\n",
       "       '7277', '2933', '1229', '7380', '1838', '6777', '0209', '1218',\n",
       "       '0202', '7074', '1110', '4042', '1830', '9899', '5571', '0204',\n",
       "       '0622', '0727', '0210', '4859', '1853', '6465', '4850', '2627',\n",
       "       '4161', '4244', '3539', '3032', '9634', '6062', '3435', '1628',\n",
       "       '0910', '5766', '6506', '2210'], dtype=object)"
      ]
     },
     "execution_count": 127,
     "metadata": {},
     "output_type": "execute_result"
    }
   ],
   "source": [
    "result_processed['Cleaned_Year'].unique()"
   ]
  },
  {
   "cell_type": "markdown",
   "id": "1aab0ef1",
   "metadata": {},
   "source": [
    "Trying to see what is going on with the weird rows."
   ]
  },
  {
   "cell_type": "code",
   "execution_count": 128,
   "id": "f8368259",
   "metadata": {},
   "outputs": [
    {
     "data": {
      "text/html": [
       "<div>\n",
       "<style scoped>\n",
       "    .dataframe tbody tr th:only-of-type {\n",
       "        vertical-align: middle;\n",
       "    }\n",
       "\n",
       "    .dataframe tbody tr th {\n",
       "        vertical-align: top;\n",
       "    }\n",
       "\n",
       "    .dataframe thead th {\n",
       "        text-align: right;\n",
       "    }\n",
       "</style>\n",
       "<table border=\"1\" class=\"dataframe\">\n",
       "  <thead>\n",
       "    <tr style=\"text-align: right;\">\n",
       "      <th></th>\n",
       "      <th>UsageClass</th>\n",
       "      <th>CheckoutType</th>\n",
       "      <th>MaterialType</th>\n",
       "      <th>CheckoutYear</th>\n",
       "      <th>CheckoutMonth</th>\n",
       "      <th>Checkouts</th>\n",
       "      <th>Title</th>\n",
       "      <th>ISBN</th>\n",
       "      <th>Creator</th>\n",
       "      <th>Subjects</th>\n",
       "      <th>Publisher</th>\n",
       "      <th>PublicationYear</th>\n",
       "      <th>ISBN-10</th>\n",
       "      <th>ISBN-13</th>\n",
       "      <th>Cleaned_Year</th>\n",
       "    </tr>\n",
       "  </thead>\n",
       "  <tbody>\n",
       "  </tbody>\n",
       "</table>\n",
       "</div>"
      ],
      "text/plain": [
       "Empty DataFrame\n",
       "Columns: [UsageClass, CheckoutType, MaterialType, CheckoutYear, CheckoutMonth, Checkouts, Title, ISBN, Creator, Subjects, Publisher, PublicationYear, ISBN-10, ISBN-13, Cleaned_Year]\n",
       "Index: []"
      ]
     },
     "execution_count": 128,
     "metadata": {},
     "output_type": "execute_result"
    }
   ],
   "source": [
    "result_processed[result_processed['Cleaned_Year'] == '92009']"
   ]
  },
  {
   "cell_type": "markdown",
   "id": "e927ac6a",
   "metadata": {},
   "source": [
    "Adding more cases to clean this further."
   ]
  },
  {
   "cell_type": "code",
   "execution_count": 129,
   "id": "731afbcf",
   "metadata": {},
   "outputs": [],
   "source": [
    "def clean_year(year):\n",
    "    if isinstance(year, str):\n",
    "        match = re.search(r\"\\[(\\d{4})-(\\d{2,4})\\]\", year)\n",
    "        if match:\n",
    "            return match.group(1)  \n",
    "        \n",
    "        match = re.match(r\"(\\d{4})(\\d{4})\", year)\n",
    "        if match:\n",
    "            return match.group(1)\n",
    "        \n",
    "    return year"
   ]
  },
  {
   "cell_type": "code",
   "execution_count": 130,
   "id": "92a93d69",
   "metadata": {},
   "outputs": [],
   "source": [
    "result_processed['Cleaned_Year'] = result_processed['PublicationYear'].apply(clean_year)"
   ]
  },
  {
   "cell_type": "code",
   "execution_count": 131,
   "id": "201ad19c",
   "metadata": {},
   "outputs": [],
   "source": [
    "result_processed['Cleaned_Year'] = pd.to_numeric(result_processed['Cleaned_Year'], errors='coerce')"
   ]
  },
  {
   "cell_type": "code",
   "execution_count": 190,
   "id": "c4d19dda",
   "metadata": {},
   "outputs": [
    {
     "data": {
      "text/plain": [
       "array([2020., 2021., 2007.,   nan, 2015., 2014., 2009., 2022., 2011.,\n",
       "       2018., 2013., 2008., 2005., 2010., 2016., 2012., 2019., 2017.,\n",
       "       1944., 2003., 1992., 2006., 1997., 1999., 1988., 1994., 2002.,\n",
       "       2000., 1989., 1983., 1972., 1985., 1998., 1995., 2001., 2004.,\n",
       "       1996., 1993., 1928., 1990., 1991., 1970., 1976., 1937., 1969.,\n",
       "       1966., 1965., 1961., 1964., 1960., 1954., 1986., 1982., 1968.,\n",
       "       1951., 1939., 1911., 1974., 1940., 1935., 1921., 1973., 1888.,\n",
       "       1984., 1926., 1956., 1963., 1910., 1958., 1979., 1981., 1975.,\n",
       "       1967., 1980., 1977., 1987., 1955., 1932., 1962., 1943., 1948.,\n",
       "       1959., 1953., 1971., 1957., 1950., 1978., 1952., 1927., 1913.,\n",
       "       1931., 1900., 1945., 1906., 1936., 1934., 1894., 1924., 1925.,\n",
       "       1912., 1922., 1903., 1947., 1941., 1938., 1896., 1897., 1905.,\n",
       "       1901., 1909., 1883., 1873., 1942., 1946., 1895., 1949., 1929.,\n",
       "       1914., 1916., 1907., 1919., 1874., 1899., 1933., 1898., 1923.,\n",
       "       1930., 1917., 1918., 1892., 1890., 1920., 1891., 1915., 1908.,\n",
       "       1902., 1865., 1904., 1878., 1875., 1857., 1872., 1859., 1828.,\n",
       "       1866., 1856., 1881., 1884., 1889., 1882., 1861., 1893., 1848.,\n",
       "       1877., 1870., 1863., 1876., 1880., 2023., 1818., 1849., 1842.,\n",
       "       1839., 1886., 1850., 1845., 1885., 1840., 1867., 1871., 1868.,\n",
       "       1854., 1869., 1887., 1864., 1846., 1860., 1833., 1824., 1812.,\n",
       "       1843., 1879., 1838., 1853.])"
      ]
     },
     "execution_count": 190,
     "metadata": {},
     "output_type": "execute_result"
    }
   ],
   "source": [
    "result_processed['Cleaned_Year'].unique()"
   ]
  },
  {
   "cell_type": "code",
   "execution_count": 189,
   "id": "5d1341d1",
   "metadata": {},
   "outputs": [
    {
     "data": {
      "text/html": [
       "<div>\n",
       "<style scoped>\n",
       "    .dataframe tbody tr th:only-of-type {\n",
       "        vertical-align: middle;\n",
       "    }\n",
       "\n",
       "    .dataframe tbody tr th {\n",
       "        vertical-align: top;\n",
       "    }\n",
       "\n",
       "    .dataframe thead th {\n",
       "        text-align: right;\n",
       "    }\n",
       "</style>\n",
       "<table border=\"1\" class=\"dataframe\">\n",
       "  <thead>\n",
       "    <tr style=\"text-align: right;\">\n",
       "      <th></th>\n",
       "      <th>UsageClass</th>\n",
       "      <th>CheckoutType</th>\n",
       "      <th>MaterialType</th>\n",
       "      <th>CheckoutYear</th>\n",
       "      <th>CheckoutMonth</th>\n",
       "      <th>Checkouts</th>\n",
       "      <th>Title</th>\n",
       "      <th>ISBN</th>\n",
       "      <th>Creator</th>\n",
       "      <th>Subjects</th>\n",
       "      <th>Publisher</th>\n",
       "      <th>PublicationYear</th>\n",
       "      <th>ISBN-10</th>\n",
       "      <th>ISBN-13</th>\n",
       "      <th>Cleaned_Year</th>\n",
       "    </tr>\n",
       "  </thead>\n",
       "  <tbody>\n",
       "  </tbody>\n",
       "</table>\n",
       "</div>"
      ],
      "text/plain": [
       "Empty DataFrame\n",
       "Columns: [UsageClass, CheckoutType, MaterialType, CheckoutYear, CheckoutMonth, Checkouts, Title, ISBN, Creator, Subjects, Publisher, PublicationYear, ISBN-10, ISBN-13, Cleaned_Year]\n",
       "Index: []"
      ]
     },
     "execution_count": 189,
     "metadata": {},
     "output_type": "execute_result"
    }
   ],
   "source": [
    "result_processed[result_processed['Cleaned_Year'] == 2022.1]"
   ]
  },
  {
   "cell_type": "markdown",
   "id": "2e73dc1e",
   "metadata": {},
   "source": [
    "Gonna replace some of the easy ones.Run as many times as you need to clean up the above lol."
   ]
  },
  {
   "cell_type": "code",
   "execution_count": 185,
   "id": "39ad5481",
   "metadata": {},
   "outputs": [],
   "source": [
    "indexes_to_update = [12303238]"
   ]
  },
  {
   "cell_type": "code",
   "execution_count": 186,
   "id": "bf222b78",
   "metadata": {},
   "outputs": [],
   "source": [
    "new_year = 2022"
   ]
  },
  {
   "cell_type": "code",
   "execution_count": 187,
   "id": "d52c6e3b",
   "metadata": {},
   "outputs": [],
   "source": [
    "result_processed.loc[indexes_to_update, 'PublicationYear'] = new_year"
   ]
  },
  {
   "cell_type": "code",
   "execution_count": 188,
   "id": "cd00d898",
   "metadata": {},
   "outputs": [],
   "source": [
    "result_processed.loc[indexes_to_update, 'Cleaned_Year'] = new_year"
   ]
  },
  {
   "cell_type": "markdown",
   "id": "eaa63ae8",
   "metadata": {},
   "source": [
    "Combining all the cleaning fuctions for next time I run this notebook."
   ]
  },
  {
   "cell_type": "code",
   "execution_count": 191,
   "id": "9dc803b5",
   "metadata": {},
   "outputs": [],
   "source": [
    "def clean_year(year):\n",
    "    if pd.isna(year):\n",
    "        return np.nan\n",
    "    \n",
    "    year = str(year)\n",
    "    match = re.search(r\"\\[(\\d{4})-(\\d{2,4})\\]\", year)\n",
    "    if match:\n",
    "        return match.group(1)\n",
    "    \n",
    "    match = re.match(r\"(\\d{4})(\\d{4})\", year)\n",
    "    if match:\n",
    "        return match.group(1)\n",
    "    \n",
    "    year = ''.join(filter(lambda x: x.isdigit(), year))\n",
    "    return year[-4:] if len(year) == 4 else np.nan"
   ]
  },
  {
   "cell_type": "code",
   "execution_count": 193,
   "id": "c8820d4a",
   "metadata": {},
   "outputs": [],
   "source": [
    "result_processed['Cleaned_Year'] = result_processed['PublicationYear'].apply(clean_year)"
   ]
  },
  {
   "cell_type": "code",
   "execution_count": 194,
   "id": "23f2bfcc",
   "metadata": {},
   "outputs": [],
   "source": [
    "result_processed['Cleaned_Year'] = pd.to_numeric(result_processed['Cleaned_Year'], errors='coerce')"
   ]
  },
  {
   "cell_type": "code",
   "execution_count": 195,
   "id": "4f1de193",
   "metadata": {},
   "outputs": [
    {
     "data": {
      "text/plain": [
       "array([2020., 2021., 2007., 2015., 2017., 2014., 2009., 2022., 2011.,\n",
       "       2018., 2013., 2008., 2005., 2010., 2016., 2012., 2019.,   nan,\n",
       "       2003., 1998., 1944., 2000., 1992., 2006., 2004., 1997., 1999.,\n",
       "       1988., 1994., 1986., 2002., 2001., 1987., 1989., 1983., 1990.,\n",
       "       1972., 1985., 1956., 1995., 1979., 1964., 1996., 1991., 1993.,\n",
       "       1961., 1928., 1974., 1970., 1976., 1937., 1969., 1929., 1924.,\n",
       "       1978., 1966., 1965., 1941., 1977., 1982., 1957., 1960., 1954.,\n",
       "       1953., 1968., 1951., 1939., 1973., 1981., 1971., 1962., 1911.,\n",
       "       1940., 1963., 1980., 1984., 1935., 1832., 1921., 1959., 1888.,\n",
       "       1926., 1910., 1958., 1975., 1943., 1967., 1955., 1932., 1945.,\n",
       "       1948., 1949., 1946., 1950., 1938., 1952., 1927., 1912., 1913.,\n",
       "       1931., 1900., 1906., 1936., 1934., 1886., 1894., 1925., 1922.,\n",
       "       1899., 1903., 1947., 1896., 1897., 1942., 1917., 1923., 1887.,\n",
       "       1905., 1901., 1909., 1883., 1893., 1873., 1904., 1891., 1895.,\n",
       "       1914., 1916., 1907., 1892., 1919., 1874., 1930., 1933., 1898.,\n",
       "       1918., 1881., 1890., 1846., 1920., 1915., 1908., 1902., 1865.,\n",
       "       1859., 1878., 1875., 1857., 1872., 1828., 1885., 1866., 1856.,\n",
       "       1884., 1889., 1882., 1861., 1848., 1877., 1870., 1863., 1876.,\n",
       "       1880., 2023., 1818., 1849., 1842., 1839., 1850., 1819., 1845.,\n",
       "       1840., 1867., 1868., 1871., 1869., 1854., 1864., 1860., 1833.,\n",
       "       1824., 1812., 1879., 1843., 1838., 1830., 1853.])"
      ]
     },
     "execution_count": 195,
     "metadata": {},
     "output_type": "execute_result"
    }
   ],
   "source": [
    "result_processed['Cleaned_Year'].unique()"
   ]
  },
  {
   "cell_type": "markdown",
   "id": "d7102d18",
   "metadata": {},
   "source": [
    "Saving to a CSV to not lose all my manual cleaning :)"
   ]
  },
  {
   "cell_type": "code",
   "execution_count": 196,
   "id": "375afa42",
   "metadata": {},
   "outputs": [],
   "source": [
    "result_processed.to_csv('cleaned_checkouts_data.csv', index=False)"
   ]
  },
  {
   "cell_type": "code",
   "execution_count": null,
   "id": "20f45f4e",
   "metadata": {},
   "outputs": [],
   "source": []
  }
 ],
 "metadata": {
  "kernelspec": {
   "display_name": "Python 3 (ipykernel)",
   "language": "python",
   "name": "python3"
  },
  "language_info": {
   "codemirror_mode": {
    "name": "ipython",
    "version": 3
   },
   "file_extension": ".py",
   "mimetype": "text/x-python",
   "name": "python",
   "nbconvert_exporter": "python",
   "pygments_lexer": "ipython3",
   "version": "3.10.9"
  }
 },
 "nbformat": 4,
 "nbformat_minor": 5
}
