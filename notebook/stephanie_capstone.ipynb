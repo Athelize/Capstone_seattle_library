{
 "cells": [
  {
   "cell_type": "code",
   "execution_count": 1,
   "id": "c5543eca",
   "metadata": {},
   "outputs": [],
   "source": [
    "import pandas as pd\n",
    "import numpy as np\n",
    "import matplotlib.pyplot as plt\n",
    "import seaborn as sns\n",
    "import os\n",
    "import requests\n",
    "import json\n",
    "import dask.dataframe as dd"
   ]
  },
  {
   "cell_type": "markdown",
   "id": "f66f412f",
   "metadata": {},
   "source": [
    "Regular pandas wasn't working. Learned about dask and it worked beautifully."
   ]
  },
  {
   "cell_type": "code",
   "execution_count": 8,
   "id": "5ba5bec3",
   "metadata": {},
   "outputs": [],
   "source": [
    "seattle_df = dd.read_csv('..\\data\\checkouts_by_title.csv', dtype={'ISBN': 'object'})"
   ]
  },
  {
   "cell_type": "code",
   "execution_count": 9,
   "id": "41928a3a",
   "metadata": {},
   "outputs": [],
   "source": [
    "filtered_seattle_df = seattle_df[seattle_df['CheckoutYear'] >= 2018]"
   ]
  },
  {
   "cell_type": "code",
   "execution_count": 10,
   "id": "eeec9704",
   "metadata": {},
   "outputs": [
    {
     "name": "stderr",
     "output_type": "stream",
     "text": [
      "F:\\Anaconda\\lib\\site-packages\\dask\\dataframe\\core.py:7560: UserWarning: Insufficient elements for `head`. 5 elements requested, only 2 elements available. Try passing larger `npartitions` to `head`.\n",
      "  warnings.warn(\n"
     ]
    },
    {
     "data": {
      "text/html": [
       "<div>\n",
       "<style scoped>\n",
       "    .dataframe tbody tr th:only-of-type {\n",
       "        vertical-align: middle;\n",
       "    }\n",
       "\n",
       "    .dataframe tbody tr th {\n",
       "        vertical-align: top;\n",
       "    }\n",
       "\n",
       "    .dataframe thead th {\n",
       "        text-align: right;\n",
       "    }\n",
       "</style>\n",
       "<table border=\"1\" class=\"dataframe\">\n",
       "  <thead>\n",
       "    <tr style=\"text-align: right;\">\n",
       "      <th></th>\n",
       "      <th>UsageClass</th>\n",
       "      <th>CheckoutType</th>\n",
       "      <th>MaterialType</th>\n",
       "      <th>CheckoutYear</th>\n",
       "      <th>CheckoutMonth</th>\n",
       "      <th>Checkouts</th>\n",
       "      <th>Title</th>\n",
       "      <th>ISBN</th>\n",
       "      <th>Creator</th>\n",
       "      <th>Subjects</th>\n",
       "      <th>Publisher</th>\n",
       "      <th>PublicationYear</th>\n",
       "    </tr>\n",
       "  </thead>\n",
       "  <tbody>\n",
       "    <tr>\n",
       "      <th>184756</th>\n",
       "      <td>Digital</td>\n",
       "      <td>OverDrive</td>\n",
       "      <td>EBOOK</td>\n",
       "      <td>2023</td>\n",
       "      <td>3</td>\n",
       "      <td>2</td>\n",
       "      <td>Harry Potter und der Stein der Weisen</td>\n",
       "      <td>9781781100769</td>\n",
       "      <td>J. K. Rowling</td>\n",
       "      <td>Juvenile Fiction, Juvenile Literature</td>\n",
       "      <td>Pottermore</td>\n",
       "      <td>2020</td>\n",
       "    </tr>\n",
       "    <tr>\n",
       "      <th>244526</th>\n",
       "      <td>Digital</td>\n",
       "      <td>OverDrive</td>\n",
       "      <td>AUDIOBOOK</td>\n",
       "      <td>2022</td>\n",
       "      <td>9</td>\n",
       "      <td>2</td>\n",
       "      <td>The Free Bastards: The Lot Lands Series, Book ...</td>\n",
       "      <td>9780593414682</td>\n",
       "      <td>Jonathan French</td>\n",
       "      <td>Fantasy, Fiction</td>\n",
       "      <td>Books on Tape</td>\n",
       "      <td>2021</td>\n",
       "    </tr>\n",
       "  </tbody>\n",
       "</table>\n",
       "</div>"
      ],
      "text/plain": [
       "       UsageClass CheckoutType MaterialType  CheckoutYear  CheckoutMonth  \\\n",
       "184756    Digital    OverDrive        EBOOK          2023              3   \n",
       "244526    Digital    OverDrive    AUDIOBOOK          2022              9   \n",
       "\n",
       "        Checkouts                                              Title  \\\n",
       "184756          2              Harry Potter und der Stein der Weisen   \n",
       "244526          2  The Free Bastards: The Lot Lands Series, Book ...   \n",
       "\n",
       "                 ISBN          Creator                               Subjects  \\\n",
       "184756  9781781100769    J. K. Rowling  Juvenile Fiction, Juvenile Literature   \n",
       "244526  9780593414682  Jonathan French                       Fantasy, Fiction   \n",
       "\n",
       "            Publisher PublicationYear  \n",
       "184756     Pottermore            2020  \n",
       "244526  Books on Tape            2021  "
      ]
     },
     "execution_count": 10,
     "metadata": {},
     "output_type": "execute_result"
    }
   ],
   "source": [
    "filtered_seattle_df.head()"
   ]
  },
  {
   "cell_type": "code",
   "execution_count": 11,
   "id": "e23ae9cc",
   "metadata": {},
   "outputs": [],
   "source": [
    "result = filtered_seattle_df.compute()"
   ]
  },
  {
   "cell_type": "code",
   "execution_count": 12,
   "id": "e5135d7b",
   "metadata": {},
   "outputs": [
    {
     "name": "stdout",
     "output_type": "stream",
     "text": [
      "<class 'pandas.core.frame.DataFrame'>\n",
      "Int64Index: 12415765 entries, 184756 to 244722\n",
      "Data columns (total 12 columns):\n",
      " #   Column           Dtype \n",
      "---  ------           ----- \n",
      " 0   UsageClass       object\n",
      " 1   CheckoutType     object\n",
      " 2   MaterialType     object\n",
      " 3   CheckoutYear     int64 \n",
      " 4   CheckoutMonth    int64 \n",
      " 5   Checkouts        int64 \n",
      " 6   Title            object\n",
      " 7   ISBN             object\n",
      " 8   Creator          object\n",
      " 9   Subjects         object\n",
      " 10  Publisher        object\n",
      " 11  PublicationYear  object\n",
      "dtypes: int64(3), object(9)\n",
      "memory usage: 1.2+ GB\n"
     ]
    }
   ],
   "source": [
    "result.info()"
   ]
  },
  {
   "cell_type": "markdown",
   "id": "f5253e1b",
   "metadata": {},
   "source": [
    "Saving to a file with just my filtered data."
   ]
  },
  {
   "cell_type": "code",
   "execution_count": 14,
   "id": "9e3aecb2",
   "metadata": {},
   "outputs": [],
   "source": [
    "result.to_csv('..\\\\data\\\\filtered_checkouts_by_title.csv', index=False)"
   ]
  },
  {
   "cell_type": "code",
   "execution_count": 15,
   "id": "fa300d16",
   "metadata": {},
   "outputs": [
    {
     "data": {
      "text/html": [
       "<div>\n",
       "<style scoped>\n",
       "    .dataframe tbody tr th:only-of-type {\n",
       "        vertical-align: middle;\n",
       "    }\n",
       "\n",
       "    .dataframe tbody tr th {\n",
       "        vertical-align: top;\n",
       "    }\n",
       "\n",
       "    .dataframe thead th {\n",
       "        text-align: right;\n",
       "    }\n",
       "</style>\n",
       "<table border=\"1\" class=\"dataframe\">\n",
       "  <thead>\n",
       "    <tr style=\"text-align: right;\">\n",
       "      <th></th>\n",
       "      <th>UsageClass</th>\n",
       "      <th>CheckoutType</th>\n",
       "      <th>MaterialType</th>\n",
       "      <th>CheckoutYear</th>\n",
       "      <th>CheckoutMonth</th>\n",
       "      <th>Checkouts</th>\n",
       "      <th>Title</th>\n",
       "      <th>ISBN</th>\n",
       "      <th>Creator</th>\n",
       "      <th>Subjects</th>\n",
       "      <th>Publisher</th>\n",
       "      <th>PublicationYear</th>\n",
       "    </tr>\n",
       "  </thead>\n",
       "  <tbody>\n",
       "    <tr>\n",
       "      <th>184756</th>\n",
       "      <td>Digital</td>\n",
       "      <td>OverDrive</td>\n",
       "      <td>EBOOK</td>\n",
       "      <td>2023</td>\n",
       "      <td>3</td>\n",
       "      <td>2</td>\n",
       "      <td>Harry Potter und der Stein der Weisen</td>\n",
       "      <td>9781781100769</td>\n",
       "      <td>J. K. Rowling</td>\n",
       "      <td>Juvenile Fiction, Juvenile Literature</td>\n",
       "      <td>Pottermore</td>\n",
       "      <td>2020</td>\n",
       "    </tr>\n",
       "    <tr>\n",
       "      <th>244526</th>\n",
       "      <td>Digital</td>\n",
       "      <td>OverDrive</td>\n",
       "      <td>AUDIOBOOK</td>\n",
       "      <td>2022</td>\n",
       "      <td>9</td>\n",
       "      <td>2</td>\n",
       "      <td>The Free Bastards: The Lot Lands Series, Book ...</td>\n",
       "      <td>9780593414682</td>\n",
       "      <td>Jonathan French</td>\n",
       "      <td>Fantasy, Fiction</td>\n",
       "      <td>Books on Tape</td>\n",
       "      <td>2021</td>\n",
       "    </tr>\n",
       "    <tr>\n",
       "      <th>77600</th>\n",
       "      <td>Digital</td>\n",
       "      <td>OverDrive</td>\n",
       "      <td>EBOOK</td>\n",
       "      <td>2022</td>\n",
       "      <td>9</td>\n",
       "      <td>8</td>\n",
       "      <td>Dawn: Warriors: The New Prophecy Series, Book 3</td>\n",
       "      <td>9780061757433</td>\n",
       "      <td>Erin Hunter</td>\n",
       "      <td>Fantasy, Juvenile Fiction, Juvenile Literature</td>\n",
       "      <td>HarperCollins Publishers Inc.</td>\n",
       "      <td>2007</td>\n",
       "    </tr>\n",
       "    <tr>\n",
       "      <th>131103</th>\n",
       "      <td>Physical</td>\n",
       "      <td>Horizon</td>\n",
       "      <td>BOOK</td>\n",
       "      <td>2022</td>\n",
       "      <td>9</td>\n",
       "      <td>1</td>\n",
       "      <td>Black box : a record of the catastrophe. Volum...</td>\n",
       "      <td>162963123X, 9781629631233</td>\n",
       "      <td>NaN</td>\n",
       "      <td>Social change, Social change Literary collections</td>\n",
       "      <td>PM Press,</td>\n",
       "      <td>[2015]</td>\n",
       "    </tr>\n",
       "    <tr>\n",
       "      <th>184573</th>\n",
       "      <td>Digital</td>\n",
       "      <td>OverDrive</td>\n",
       "      <td>AUDIOBOOK</td>\n",
       "      <td>2023</td>\n",
       "      <td>3</td>\n",
       "      <td>2</td>\n",
       "      <td>Blood Games (unabridged)</td>\n",
       "      <td>9781452698052</td>\n",
       "      <td>Chloe Neill</td>\n",
       "      <td>Fantasy, Fiction, Literature, Romance</td>\n",
       "      <td>Tantor Media, Inc</td>\n",
       "      <td>2015</td>\n",
       "    </tr>\n",
       "  </tbody>\n",
       "</table>\n",
       "</div>"
      ],
      "text/plain": [
       "       UsageClass CheckoutType MaterialType  CheckoutYear  CheckoutMonth  \\\n",
       "184756    Digital    OverDrive        EBOOK          2023              3   \n",
       "244526    Digital    OverDrive    AUDIOBOOK          2022              9   \n",
       "77600     Digital    OverDrive        EBOOK          2022              9   \n",
       "131103   Physical      Horizon         BOOK          2022              9   \n",
       "184573    Digital    OverDrive    AUDIOBOOK          2023              3   \n",
       "\n",
       "        Checkouts                                              Title  \\\n",
       "184756          2              Harry Potter und der Stein der Weisen   \n",
       "244526          2  The Free Bastards: The Lot Lands Series, Book ...   \n",
       "77600           8    Dawn: Warriors: The New Prophecy Series, Book 3   \n",
       "131103          1  Black box : a record of the catastrophe. Volum...   \n",
       "184573          2                           Blood Games (unabridged)   \n",
       "\n",
       "                             ISBN          Creator  \\\n",
       "184756              9781781100769    J. K. Rowling   \n",
       "244526              9780593414682  Jonathan French   \n",
       "77600               9780061757433      Erin Hunter   \n",
       "131103  162963123X, 9781629631233              NaN   \n",
       "184573              9781452698052      Chloe Neill   \n",
       "\n",
       "                                                 Subjects  \\\n",
       "184756              Juvenile Fiction, Juvenile Literature   \n",
       "244526                                   Fantasy, Fiction   \n",
       "77600      Fantasy, Juvenile Fiction, Juvenile Literature   \n",
       "131103  Social change, Social change Literary collections   \n",
       "184573              Fantasy, Fiction, Literature, Romance   \n",
       "\n",
       "                            Publisher PublicationYear  \n",
       "184756                     Pottermore            2020  \n",
       "244526                  Books on Tape            2021  \n",
       "77600   HarperCollins Publishers Inc.            2007  \n",
       "131103                      PM Press,          [2015]  \n",
       "184573              Tantor Media, Inc            2015  "
      ]
     },
     "execution_count": 15,
     "metadata": {},
     "output_type": "execute_result"
    }
   ],
   "source": [
    "result.head()"
   ]
  },
  {
   "cell_type": "markdown",
   "id": "39713880",
   "metadata": {},
   "source": [
    "Trying to clean ISBN and split into ISBN-10 and ISBN-13."
   ]
  },
  {
   "cell_type": "code",
   "execution_count": null,
   "id": "61c3c326",
   "metadata": {},
   "outputs": [],
   "source": [
    "result[['Possible ISBN-10', 'Possible ISBN-13']] = result['ISBN'].str.split(',', expand=True)"
   ]
  },
  {
   "cell_type": "markdown",
   "id": "cf74dc4b",
   "metadata": {},
   "source": [
    "Fixing any spaces left."
   ]
  },
  {
   "cell_type": "code",
   "execution_count": null,
   "id": "fac0c9ec",
   "metadata": {},
   "outputs": [],
   "source": [
    "result['Possible ISBN-10'] = result['Possible ISBN-10'].str.strip()\n",
    "result['Possible ISBN-13'] = result['Possible ISBN-13'].str.strip()"
   ]
  }
 ],
 "metadata": {
  "kernelspec": {
   "display_name": "Python 3 (ipykernel)",
   "language": "python",
   "name": "python3"
  },
  "language_info": {
   "codemirror_mode": {
    "name": "ipython",
    "version": 3
   },
   "file_extension": ".py",
   "mimetype": "text/x-python",
   "name": "python",
   "nbconvert_exporter": "python",
   "pygments_lexer": "ipython3",
   "version": "3.10.9"
  }
 },
 "nbformat": 4,
 "nbformat_minor": 5
}
